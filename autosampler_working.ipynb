{
 "cells": [
  {
   "cell_type": "markdown",
   "id": "9169481a-2899-4b55-9ee8-e0c18f575360",
   "metadata": {},
   "source": [
    "Goal is to create an algorithm that takes a D8 grid and a number of samples and returns the localities of the sample sites that best subdivide the area."
   ]
  },
  {
   "cell_type": "markdown",
   "id": "775c67e7-41e9-45f1-bc12-a9d8bd5b6170",
   "metadata": {},
   "source": [
    "## Generate example landscape"
   ]
  },
  {
   "cell_type": "code",
   "execution_count": 2,
   "id": "342dda32-0d38-4e5b-a88c-262991a7a1ac",
   "metadata": {
    "tags": []
   },
   "outputs": [
    {
     "name": "stdout",
     "output_type": "stream",
     "text": [
      "/home/alex/anaconda3/envs/working/bin/python\n"
     ]
    },
    {
     "data": {
      "image/png": "[encoded data removed]",
      "text/plain": [
       "<Figure size 640x480 with 2 Axes>"
      ]
     },
     "metadata": {},
     "output_type": "display_data"
    },
    {
     "data": {
      "text/plain": [
       "<Figure size 640x480 with 0 Axes>"
      ]
     },
     "metadata": {},
     "output_type": "display_data"
    }
   ],
   "source": [
    "import sys\n",
    "import os\n",
    "\n",
    "print(sys.executable)\n",
    "\n",
    "import landlab\n",
    "import matplotlib.pyplot as plt\n",
    "import numpy as np\n",
    "from landlab import RasterModelGrid\n",
    "from landlab.components import FlowAccumulator, SinkFillerBarnes\n",
    "\n",
    "# nx = 100\n",
    "# ny = 100\n",
    "# mg = RasterModelGrid(shape=(nx, ny))\n",
    "# z = np.zeros(mg.shape)\n",
    "# for i in range(nx):\n",
    "#     for j in range(ny):\n",
    "#         z[i, j] = (i - (nx / 2)) ** 2 + (100 * np.random.rand())\n",
    "# mg.add_field(\"topographic__elevation\", z)\n",
    "# mg.set_closed_boundaries_at_grid_edges(False, True, False, True)\n",
    "\n",
    "# sb = SinkFillerBarnes(mg)\n",
    "# sb.run_one_step()\n",
    "\n",
    "# mg.save(\"topo.asc\",names='topographic__elevation')\n",
    "\n",
    "\n",
    "ascii_data = landlab.io.esri_ascii.read_esri_ascii(\"topo.asc\")\n",
    "mg = ascii_data[0]\n",
    "mg.add_field(\"topographic__elevation\", ascii_data[1])\n",
    "frr = FlowAccumulator(mg, flow_director=\"FlowDirectorD8\")\n",
    "frr.run_one_step()\n",
    "landlab.plot.imshow_grid(mg, \"drainage_area\", output=True)"
   ]
  },
  {
   "cell_type": "code",
   "execution_count": 22,
   "id": "fbe9130b",
   "metadata": {},
   "outputs": [
    {
     "ename": "NameError",
     "evalue": "name 'array' is not defined",
     "output_type": "error",
     "traceback": [
      "\u001b[0;31m---------------------------------------------------------------------------\u001b[0m",
      "\u001b[0;31mNameError\u001b[0m                                 Traceback (most recent call last)",
      "Cell \u001b[0;32mIn [22], line 5\u001b[0m\n\u001b[1;32m      2\u001b[0m     indices \u001b[39m=\u001b[39m np\u001b[39m.\u001b[39mravel([np\u001b[39m.\u001b[39mwhere(x\u001b[39m==\u001b[39me) \u001b[39mfor\u001b[39;00m e \u001b[39min\u001b[39;00m elements])\n\u001b[1;32m      3\u001b[0m     \u001b[39mreturn\u001b[39;00m(np\u001b[39m.\u001b[39mdelete(array,indices))\n\u001b[0;32m----> 5\u001b[0m fast_delete(np\u001b[39m.\u001b[39;49marray([\u001b[39m1\u001b[39;49m,\u001b[39m2\u001b[39;49m,\u001b[39m3\u001b[39;49m,\u001b[39m4\u001b[39;49m,\u001b[39m5\u001b[39;49m,\u001b[39m6\u001b[39;49m,\u001b[39m7\u001b[39;49m,\u001b[39m8\u001b[39;49m]),[\u001b[39m2\u001b[39;49m,\u001b[39m5\u001b[39;49m,\u001b[39m6\u001b[39;49m])\n",
      "Cell \u001b[0;32mIn [22], line 3\u001b[0m, in \u001b[0;36mfast_delete\u001b[0;34m(x, elements)\u001b[0m\n\u001b[1;32m      1\u001b[0m \u001b[39mdef\u001b[39;00m \u001b[39mfast_delete\u001b[39m(x,elements):\n\u001b[1;32m      2\u001b[0m     indices \u001b[39m=\u001b[39m np\u001b[39m.\u001b[39mravel([np\u001b[39m.\u001b[39mwhere(x\u001b[39m==\u001b[39me) \u001b[39mfor\u001b[39;00m e \u001b[39min\u001b[39;00m elements])\n\u001b[0;32m----> 3\u001b[0m     \u001b[39mreturn\u001b[39;00m(np\u001b[39m.\u001b[39mdelete(array,indices))\n",
      "\u001b[0;31mNameError\u001b[0m: name 'array' is not defined"
     ]
    }
   ],
   "source": [
    "def fast_delete(x,elements):\n",
    "    indices = np.ravel([np.where(x==e) for e in elements])\n",
    "    return(np.delete(x,indices))\n",
    "\n",
    "fast_delete(np.array([1,2,3,4,5,6,7,8]),[2,5,6])"
   ]
  },
  {
   "cell_type": "code",
   "execution_count": 31,
   "id": "c01ba63a",
   "metadata": {},
   "outputs": [
    {
     "name": "stdout",
     "output_type": "stream",
     "text": [
      "~~~~~~~ Beginning Calculation ~~~~~~~\n",
      "Target area =  100\n",
      "Looping through all nodes\n",
      "\t Processing node 0 of 10000\n",
      "\t Found a sample locality: 8095\n",
      "\t Found a sample locality: 6197\n",
      "\t Found a sample locality: 5895\n",
      "\t Found a sample locality: 7909\n",
      "\t Found a sample locality: 8106\n",
      "\t Found a sample locality: 6307\n",
      "\t Found a sample locality: 5710\n",
      "\t Found a sample locality: 7826\n",
      "\t Found a sample locality: 7918\n",
      "\t Found a sample locality: 6622\n",
      "\t Found a sample locality: 6517\n",
      "\t Processing node 2000 of 10000\n",
      "\t Found a sample locality: 6429\n",
      "\t Found a sample locality: 6028\n",
      "\t Found a sample locality: 7549\n",
      "\t Found a sample locality: 7345\n",
      "\t Found a sample locality: 6343\n",
      "\t Found a sample locality: 8237\n",
      "\t Found a sample locality: 7038\n",
      "\t Found a sample locality: 5440\n",
      "\t Found a sample locality: 5447\n",
      "\t Found a sample locality: 7452\n",
      "\t Found a sample locality: 8161\n",
      "\t Found a sample locality: 7561\n",
      "\t Found a sample locality: 6561\n",
      "\t Found a sample locality: 5357\n",
      "\t Found a sample locality: 5157\n",
      "\t Found a sample locality: 5150\n",
      "\t Processing node 4000 of 10000\n",
      "\t Found a sample locality: 2849\n",
      "\t Found a sample locality: 3552\n",
      "\t Found a sample locality: 4745\n",
      "\t Found a sample locality: 2645\n",
      "\t Found a sample locality: 1739\n",
      "\t Found a sample locality: 3741\n",
      "\t Found a sample locality: 1834\n",
      "\t Found a sample locality: 2735\n",
      "\t Found a sample locality: 4538\n",
      "\t Found a sample locality: 4832\n",
      "\t Found a sample locality: 1925\n",
      "\t Found a sample locality: 3130\n",
      "\t Found a sample locality: 4026\n",
      "\t Found a sample locality: 4531\n",
      "\t Found a sample locality: 4828\n",
      "\t Found a sample locality: 4120\n",
      "\t Found a sample locality: 4721\n",
      "\t Found a sample locality: 4917\n",
      "\t Found a sample locality: 2012\n",
      "\t Found a sample locality: 3112\n",
      "\t Processing node 6000 of 10000\n",
      "\t Found a sample locality: 4613\n",
      "\t Found a sample locality: 5008\n",
      "\t Found a sample locality: 2506\n",
      "\t Found a sample locality: 4406\n",
      "\t Found a sample locality: 5102\n",
      "\t Found a sample locality: 6088\n",
      "\t Found a sample locality: 8287\n",
      "\t Found a sample locality: 7682\n",
      "\t Found a sample locality: 5979\n",
      "\t Found a sample locality: 8277\n",
      "\t Found a sample locality: 6775\n",
      "\t Found a sample locality: 5175\n",
      "\t Found a sample locality: 7068\n",
      "\t Found a sample locality: 5066\n",
      "\t Found a sample locality: 2762\n",
      "\t Found a sample locality: 3163\n",
      "\t Processing node 8000 of 10000\n",
      "\t Found a sample locality: 1957\n",
      "\t Found a sample locality: 3560\n",
      "\t Found a sample locality: 4564\n",
      "\t Found a sample locality: 3072\n",
      "\t Found a sample locality: 4370\n",
      "\t Found a sample locality: 2073\n",
      "\t Found a sample locality: 2677\n",
      "\t Found a sample locality: 4274\n",
      "\t Found a sample locality: 4675\n",
      "\t Found a sample locality: 2680\n",
      "\t Found a sample locality: 2185\n",
      "\t Found a sample locality: 3885\n",
      "\t Found a sample locality: 4685\n",
      "\t Found a sample locality: 4689\n",
      "\t Found a sample locality: 2194\n",
      "\t Found a sample locality: 2990\n",
      "\t Found a sample locality: 4392\n",
      "Found 80 sample localities\n",
      "Average area per basin =  114.5875 +/- 17.4317911802\n",
      "~~~~~~~ Finished Calculation ~~~~~~~\n"
     ]
    }
   ],
   "source": [
    "def get_sample_nodes_by_area(model_grid, target_area):\n",
    "\n",
    "    print(\"~~~~~~~ Beginning Calculation ~~~~~~~\")\n",
    "    # Node array contining downstream-to-upstream ordered list of node\n",
    "    ordered_nodes = model_grid.at_node[\"flow__upstream_node_order\"]\n",
    "    receiver_at_node = model_grid.at_node[\"flow__receiver_node\"]\n",
    "    A_per_samp = target_area\n",
    "\n",
    "    samps_allocated = 0\n",
    "\n",
    "    V = []  # visited nodes\n",
    "    uV = ordered_nodes.tolist()  # unvisited otes\n",
    "    sample_nodes = {}\n",
    "    samps_allocated = 0\n",
    "    counter = 0\n",
    "    print(\"Target area = \", A_per_samp)\n",
    "    print(\"Looping through all nodes\")\n",
    "    for i in np.arange(len(ordered_nodes) - 1, -1, -1):\n",
    "        if counter % 2000 == 0:\n",
    "            print(\"\\t Processing node\", counter, \"of\", len(ordered_nodes))\n",
    "        # Iterate from upstream to downstream\n",
    "        node = ordered_nodes[i]  # Node in network\n",
    "\n",
    "        unvis_up_nodes = [node]\n",
    "        for new_up_node in uV[np.where(uV==node)[0][0]:]:\n",
    "            if receiver_at_node[new_up_node] in unvis_up_nodes:\n",
    "                unvis_up_nodes.append(new_up_node)\n",
    "\n",
    "        if len(unvis_up_nodes) > A_per_samp:\n",
    "            print(\"\\t Found a sample locality:\", node)\n",
    "            sample_nodes[node] = unvis_up_nodes  # Add node to list\n",
    "            for x in unvis_up_nodes:  # Remove added nodes to unvisited list\n",
    "                uV.remove(x)\n",
    "            samps_allocated += 1\n",
    "        counter += 1\n",
    "    print(\"Found\", samps_allocated, \"sample localities\")\n",
    "    area_sizes = [len(areas) for _, areas in sample_nodes.items()]\n",
    "    mean, std = np.mean(area_sizes), np.std(area_sizes)\n",
    "    print(\"Average area per basin = \", mean, \"+/-\", std)\n",
    "    print(\"~~~~~~~ Finished Calculation ~~~~~~~\")\n",
    "    return sample_nodes\n",
    "\n",
    "out = get_sample_nodes_by_area(mg,100)\n",
    "\n"
   ]
  },
  {
   "cell_type": "code",
   "execution_count": null,
   "id": "2df95dc0",
   "metadata": {},
   "outputs": [],
   "source": []
  }
 ],
 "metadata": {
  "kernelspec": {
   "display_name": "Python 3.10.6 ('working')",
   "language": "python",
   "name": "python3"
  },
  "language_info": {
   "codemirror_mode": {
    "name": "ipython",
    "version": 3
   },
   "file_extension": ".py",
   "mimetype": "text/x-python",
   "name": "python",
   "nbconvert_exporter": "python",
   "pygments_lexer": "ipython3",
   "version": "3.10.6"
  },
  "vscode": {
   "interpreter": {
    "hash": "224cc2e3a09f42f61347978732024c22db5718408364d877c62c4ee2e4a62d11"
   }
  }
 },
 "nbformat": 4,
 "nbformat_minor": 5
}
