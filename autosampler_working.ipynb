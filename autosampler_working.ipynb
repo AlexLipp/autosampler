{
 "cells": [
  {
   "cell_type": "markdown",
   "id": "9169481a-2899-4b55-9ee8-e0c18f575360",
   "metadata": {},
   "source": [
    "Goal is to create an algorithm that takes a D8 grid and a number of samples and returns the localities of the sample sites that best subdivide the area."
   ]
  },
  {
   "cell_type": "markdown",
   "id": "775c67e7-41e9-45f1-bc12-a9d8bd5b6170",
   "metadata": {},
   "source": [
    "## Generate example landscape"
   ]
  },
  {
   "cell_type": "code",
   "execution_count": 2,
   "id": "342dda32-0d38-4e5b-a88c-262991a7a1ac",
   "metadata": {
    "tags": []
   },
   "outputs": [
    {
     "name": "stdout",
     "output_type": "stream",
     "text": [
      "/home/alex/anaconda3/envs/working/bin/python\n"
     ]
    },
    {
     "data": {
      "image/png": "[encoded data removed]",
      "text/plain": [
       "<Figure size 640x480 with 2 Axes>"
      ]
     },
     "metadata": {},
     "output_type": "display_data"
    },
    {
     "data": {
      "text/plain": [
       "<Figure size 640x480 with 0 Axes>"
      ]
     },
     "metadata": {},
     "output_type": "display_data"
    }
   ],
   "source": [
    "import sys\n",
    "\n",
    "print(sys.executable)\n",
    "\n",
    "import landlab\n",
    "import matplotlib.pyplot as plt\n",
    "import numpy as np\n",
    "from landlab import RasterModelGrid\n",
    "from landlab.components import FlowAccumulator, SinkFillerBarnes\n",
    "\n",
    "# nx = 100\n",
    "# ny = 100\n",
    "# mg = RasterModelGrid(shape=(nx, ny))\n",
    "# z = np.zeros(mg.shape)\n",
    "# for i in range(nx):\n",
    "#     for j in range(ny):\n",
    "#         z[i, j] = (i - (nx / 2)) ** 2 + (100 * np.random.rand())\n",
    "# mg.add_field(\"topographic__elevation\", z)\n",
    "# mg.set_closed_boundaries_at_grid_edges(False, True, False, True)\n",
    "\n",
    "# sb = SinkFillerBarnes(mg)\n",
    "# sb.run_one_step()\n",
    "\n",
    "# mg.save(\"topo.asc\",names='topographic__elevation')\n",
    "\n",
    "\n",
    "ascii_data = landlab.io.esri_ascii.read_esri_ascii(\"topo.asc\")\n",
    "mg = ascii_data[0]\n",
    "mg.add_field(\"topographic__elevation\", ascii_data[1])\n",
    "frr = FlowAccumulator(mg, flow_director=\"FlowDirectorD8\")\n",
    "frr.run_one_step()\n",
    "landlab.plot.imshow_grid(mg, \"drainage_area\", output=True)"
   ]
  },
  {
   "cell_type": "markdown",
   "id": "e4364a13-39ac-4ab9-9c41-a573697f9b52",
   "metadata": {
    "tags": []
   },
   "source": [
    "## Autosampler algorithm"
   ]
  },
  {
   "cell_type": "markdown",
   "id": "49d86788-3e29-4364-86c5-12aced2542f7",
   "metadata": {},
   "source": [
    "\n",
    "TODO: \n",
    "\n",
    "1. Remove all landlab dependencies\n",
    "2. "
   ]
  },
  {
   "cell_type": "code",
   "execution_count": 3,
   "id": "706d176a-9785-4041-9cfd-895022de4fee",
   "metadata": {},
   "outputs": [],
   "source": [
    "def get_sample_nodes(model_grid, num_samps, increment=0.01):\n",
    "    print(\"Setting up\")\n",
    "\n",
    "    # Node array containing downstream-to-upstream ordered list of node\n",
    "    ordered_nodes = model_grid.at_node[\"flow__upstream_node_order\"]\n",
    "    total_area = len(ordered_nodes)\n",
    "    A_per_samp = total_area / num_samps\n",
    "\n",
    "    node_area_dict = {}\n",
    "    for node in ordered_nodes:\n",
    "        node_area_dict[node] = landlab.utils.get_watershed_nodes(model_grid, node)\n",
    "\n",
    "    samps_allocated = 0\n",
    "    iterations = 0\n",
    "    print(\"Starting iterations\")\n",
    "    while samps_allocated < num_samps:\n",
    "\n",
    "        V = []  # visited nodes\n",
    "        uV = ordered_nodes.tolist()  # unvisited otes\n",
    "        sample_nodes = {}\n",
    "        samps_allocated = 0\n",
    "\n",
    "        print(\"Trying with target area = \", A_per_samp)\n",
    "        for i in np.arange(len(ordered_nodes) - 1, -1, -1):\n",
    "            # Iterate from upstream to downstream\n",
    "            node = ordered_nodes[i]  # Node in network\n",
    "            all_upst_nodes = node_area_dict[node]  # Get all the upstream nodes\n",
    "            unvisited_upst_nodes = all_upst_nodes[\n",
    "                np.isin(all_upst_nodes, uV)\n",
    "            ]  # Identify those which are 'new'\n",
    "            if len(unvisited_upst_nodes) > A_per_samp:\n",
    "                print(\"Found a sample locality:\", node)\n",
    "                sample_nodes[node] = unvisited_upst_nodes  # Add node to list\n",
    "                for x in unvisited_upst_nodes:  # Remove added nodes to unvisited list\n",
    "                    uV.remove(x)\n",
    "                samps_allocated += 1\n",
    "                if samps_allocated == num_samps:\n",
    "                    break\n",
    "        iterations += 1\n",
    "        print(\"# Finished iteration\", iterations, \"#\")\n",
    "        if samps_allocated < num_samps:\n",
    "            print(\"Only allocated:\", samps_allocated, \"of\", num_samps)\n",
    "            print(\"Trying again with smaller target area...\")\n",
    "            print(\"___________________________\")\n",
    "        else:\n",
    "            print(\"All samples allocated\")\n",
    "            print(\"Finishing...\")\n",
    "        A_per_samp = A_per_samp * (\n",
    "            1 - increment\n",
    "        )  # initial target number of nodes per samp\n",
    "    return sample_nodes"
   ]
  },
  {
   "cell_type": "code",
   "execution_count": 4,
   "id": "5b5ae373-9a2c-4114-8ddb-1d5467de5a38",
   "metadata": {
    "tags": []
   },
   "outputs": [
    {
     "name": "stdout",
     "output_type": "stream",
     "text": [
      "Setting up\n",
      "Starting iterations\n",
      "Trying with target area =  2000.0\n",
      "Found a sample locality: 5037\n",
      "Found a sample locality: 4917\n",
      "Found a sample locality: 4879\n",
      "# Finished iteration 1 #\n",
      "Only allocated: 3 of 5\n",
      "Trying again with smaller target area...\n",
      "___________________________\n",
      "Trying with target area =  1800.0\n",
      "Found a sample locality: 5037\n",
      "Found a sample locality: 4719\n",
      "Found a sample locality: 5102\n",
      "Found a sample locality: 4879\n",
      "# Finished iteration 2 #\n",
      "Only allocated: 4 of 5\n",
      "Trying again with smaller target area...\n",
      "___________________________\n",
      "Trying with target area =  1620.0\n",
      "Found a sample locality: 5037\n",
      "Found a sample locality: 4822\n",
      "Found a sample locality: 4704\n",
      "Found a sample locality: 4879\n",
      "# Finished iteration 3 #\n",
      "Only allocated: 4 of 5\n",
      "Trying again with smaller target area...\n",
      "___________________________\n",
      "Trying with target area =  1458.0\n",
      "Found a sample locality: 5037\n",
      "Found a sample locality: 4828\n",
      "Found a sample locality: 4506\n",
      "Found a sample locality: 4879\n",
      "# Finished iteration 4 #\n",
      "Only allocated: 4 of 5\n",
      "Trying again with smaller target area...\n",
      "___________________________\n",
      "Trying with target area =  1312.2\n",
      "Found a sample locality: 4745\n",
      "Found a sample locality: 5136\n",
      "Found a sample locality: 4917\n",
      "Found a sample locality: 4673\n",
      "Found a sample locality: 4689\n",
      "# Finished iteration 5 #\n",
      "All samples allocated\n",
      "Finishing...\n"
     ]
    }
   ],
   "source": [
    "sample_nodes_catchments = get_sample_nodes(mg, 5, increment=0.1)"
   ]
  },
  {
   "cell_type": "code",
   "execution_count": null,
   "id": "5d837b1b",
   "metadata": {},
   "outputs": [],
   "source": [
    "def save_results(locs,areas):\n",
    "    np.savetxt(\"sample_sites.csv\",X=locs, delimiter=',', header=\"Area ID, x, y\",comments=\"\")\n",
    "    _ = mg.add_field(\"area_IDs\",node_map)\n",
    "    mg.save(\"area_IDs.asc\",names='area_IDs')"
   ]
  },
  {
   "cell_type": "code",
   "execution_count": 28,
   "id": "afe4d17d",
   "metadata": {},
   "outputs": [],
   "source": [
    "def process_output_dict(node_catchment_dict,model_grid):\n",
    "    out_area = np.zeros(model_grid.shape).flatten() - 999\n",
    "    N=1\n",
    "    Ns,xs,ys = [],[],[]\n",
    "    for node,upst_nodes in node_catchment_dict.items():\n",
    "        x,y = np.unravel_index(node,model_grid.shape)\n",
    "        Ns+=[N]\n",
    "        xs+=[x]\n",
    "        ys+=[y]\n",
    "        out_area[upst_nodes]=N\n",
    "        N+=1\n",
    "    out_area=out_area.reshape(model_grid.shape)\n",
    "    return(np.array([Ns,xs,ys]).T,out_area)\n",
    "\n",
    "localities,node_map = process_output_dict(sample_nodes_catchments,mg)\n"
   ]
  },
  {
   "cell_type": "code",
   "execution_count": 49,
   "id": "14082ced",
   "metadata": {},
   "outputs": [
    {
     "data": {
      "image/png": "[encoded data removed]",
      "text/plain": [
       "<Figure size 640x480 with 2 Axes>"
      ]
     },
     "metadata": {},
     "output_type": "display_data"
    }
   ],
   "source": [
    "\n",
    "\n",
    "\n",
    "viz_results(localities,node_map)\n"
   ]
  },
  {
   "cell_type": "code",
   "execution_count": null,
   "id": "43611161",
   "metadata": {},
   "outputs": [],
   "source": []
  }
 ],
 "metadata": {
  "kernelspec": {
   "display_name": "Python 3.10.6 ('working')",
   "language": "python",
   "name": "python3"
  },
  "language_info": {
   "codemirror_mode": {
    "name": "ipython",
    "version": 3
   },
   "file_extension": ".py",
   "mimetype": "text/x-python",
   "name": "python",
   "nbconvert_exporter": "python",
   "pygments_lexer": "ipython3",
   "version": "3.10.6"
  },
  "vscode": {
   "interpreter": {
    "hash": "224cc2e3a09f42f61347978732024c22db5718408364d877c62c4ee2e4a62d11"
   }
  }
 },
 "nbformat": 4,
 "nbformat_minor": 5
}
